{
 "cells": [
  {
   "cell_type": "code",
   "execution_count": 8,
   "id": "63efa602-f004-4000-81ba-1c983150da7f",
   "metadata": {},
   "outputs": [],
   "source": [
    "str = \"The comprehensive services offered by this auto shop were impressive. I appreciate their extended working hours, which are highly convenient for busy individuals. They also provide a free vehicle health checkup with every service, emphasizing their commitment to the customer’s safety.?\""
   ]
  },
  {
   "cell_type": "code",
   "execution_count": 9,
   "id": "9896c86c-7b18-4766-9988-d4d0e7bd1c44",
   "metadata": {},
   "outputs": [],
   "source": [
    "class textanalyser(object):\n",
    "    def __init__ (self,text):\n",
    "        #remove punctuations\n",
    "        formatted=text.replace(',','').replace('.','').replace('!','').replace('?','')\n",
    "        #make the formatted tect to lower case\n",
    "        formatted=formatted.lower()\n",
    "        self.fmttext=formatted\n",
    "\n",
    "    def freqall(self):\n",
    "        list1=self.fmttext.split()\n",
    "        set1=set(list1)\n",
    "        dict1={}\n",
    "        for word in set1:\n",
    "            dict1[word]=list1.count(word)\n",
    "        return dict1\n",
    "\n",
    "    def freqofoneword(self,word):\n",
    "        dict2=self.freqall()\n",
    "        if word in dict2:\n",
    "            return dict2[word]\n",
    "        else:\n",
    "            return 0\n",
    "        "
   ]
  },
  {
   "cell_type": "code",
   "execution_count": 10,
   "id": "493809c2-6fcc-4b34-ad19-f2c0338721aa",
   "metadata": {},
   "outputs": [],
   "source": [
    "o1 = textanalyser(str)"
   ]
  },
  {
   "cell_type": "code",
   "execution_count": 11,
   "id": "18d2efec-a757-4135-8eff-5b0c129653d8",
   "metadata": {},
   "outputs": [
    {
     "data": {
      "text/plain": [
       "{'this': 1,\n",
       " 'the': 2,\n",
       " 'were': 1,\n",
       " 'provide': 1,\n",
       " 'i': 1,\n",
       " 'working': 1,\n",
       " 'hours': 1,\n",
       " 'also': 1,\n",
       " 'they': 1,\n",
       " 'extended': 1,\n",
       " 'commitment': 1,\n",
       " 'individuals': 1,\n",
       " 'shop': 1,\n",
       " 'highly': 1,\n",
       " 'offered': 1,\n",
       " 'impressive': 1,\n",
       " 'auto': 1,\n",
       " 'safety': 1,\n",
       " 'vehicle': 1,\n",
       " 'busy': 1,\n",
       " 'convenient': 1,\n",
       " 'health': 1,\n",
       " 'checkup': 1,\n",
       " 'which': 1,\n",
       " 'free': 1,\n",
       " 'appreciate': 1,\n",
       " 'every': 1,\n",
       " 'emphasizing': 1,\n",
       " 'comprehensive': 1,\n",
       " 'are': 1,\n",
       " 'customer’s': 1,\n",
       " 'their': 2,\n",
       " 'a': 1,\n",
       " 'with': 1,\n",
       " 'by': 1,\n",
       " 'for': 1,\n",
       " 'service': 1,\n",
       " 'to': 1,\n",
       " 'services': 1}"
      ]
     },
     "execution_count": 11,
     "metadata": {},
     "output_type": "execute_result"
    }
   ],
   "source": [
    "o1.freqall()"
   ]
  },
  {
   "cell_type": "code",
   "execution_count": 15,
   "id": "90fb79f7-b70e-41ea-8b52-6e41a067f9d9",
   "metadata": {},
   "outputs": [
    {
     "data": {
      "text/plain": [
       "1"
      ]
     },
     "execution_count": 15,
     "metadata": {},
     "output_type": "execute_result"
    }
   ],
   "source": [
    "o1.freqofoneword(\"commitment\")"
   ]
  },
  {
   "cell_type": "code",
   "execution_count": null,
   "id": "96da203c-0553-4b2a-8eb4-da10bb9a2879",
   "metadata": {},
   "outputs": [],
   "source": []
  }
 ],
 "metadata": {
  "kernelspec": {
   "display_name": "Python 3 (ipykernel)",
   "language": "python",
   "name": "python3"
  },
  "language_info": {
   "codemirror_mode": {
    "name": "ipython",
    "version": 3
   },
   "file_extension": ".py",
   "mimetype": "text/x-python",
   "name": "python",
   "nbconvert_exporter": "python",
   "pygments_lexer": "ipython3",
   "version": "3.12.2"
  }
 },
 "nbformat": 4,
 "nbformat_minor": 5
}
